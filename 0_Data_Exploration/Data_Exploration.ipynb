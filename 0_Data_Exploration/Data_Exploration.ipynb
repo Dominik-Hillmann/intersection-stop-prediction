{
 "cells": [
  {
   "cell_type": "markdown",
   "metadata": {},
   "source": [
    "# Data Exploration for Kaggle Competition BigQuery-Geotab Intersection Congestion\n",
    "\n",
    "* trip data from commercial cars\n",
    "* features group data by\n",
    "    * intersection\n",
    "    * month\n",
    "    * hour of day\n",
    "    * direction driven through intersection\n",
    "    * weekend day\n",
    "    * optional metrics in training set in case they are useful for building your model\n",
    "    \n",
    "* target variables: three quantiles if two metrics\n",
    "    * 20th, 50th, 80th percentiles of total time stopped\n",
    "    * 20th, 50th, 80th percentiles\n",
    "    * think of goal as predicting the distribution of these metrics\n",
    "\n",
    "Concerning how to make predictions:\n",
    "> Each of those six predictions goes on a new row in the submission file. Read the submission TargetId fields, such as 1_1, as the first number being the RowId and the second being the metric id. You can unpack the submission metric id codes with submission_metric_map.json."
   ]
  },
  {
   "cell_type": "code",
   "execution_count": 3,
   "metadata": {},
   "outputs": [],
   "source": [
    "# Oython libraries\n",
    "import os\n",
    "\n",
    "# Additional modules\n",
    "import pandas as pd\n",
    "import numpy as np"
   ]
  },
  {
   "cell_type": "code",
   "execution_count": 12,
   "metadata": {},
   "outputs": [
    {
     "name": "stdout",
     "output_type": "stream",
     "text": [
      "['TotalTimeStopped_p20', 'TotalTimeStopped_p40', 'TotalTimeStopped_p50', 'TotalTimeStopped_p60', 'TotalTimeStopped_p80', 'TimeFromFirstStop_p20', 'TimeFromFirstStop_p40', 'TimeFromFirstStop_p50', 'TimeFromFirstStop_p60', 'TimeFromFirstStop_p80', 'DistanceToFirstStop_p20', 'DistanceToFirstStop_p40', 'DistanceToFirstStop_p50', 'DistanceToFirstStop_p60', 'DistanceToFirstStop_p80']\n",
      "Train columns: ['RowId', 'IntersectionId', 'Latitude', 'Longitude', 'EntryStreetName', 'ExitStreetName', 'EntryHeading', 'ExitHeading', 'Hour', 'Weekend', 'Month', 'Path', 'TotalTimeStopped_p20', 'TotalTimeStopped_p40', 'TotalTimeStopped_p50', 'TotalTimeStopped_p60', 'TotalTimeStopped_p80', 'TimeFromFirstStop_p20', 'TimeFromFirstStop_p40', 'TimeFromFirstStop_p50', 'TimeFromFirstStop_p60', 'TimeFromFirstStop_p80', 'DistanceToFirstStop_p20', 'DistanceToFirstStop_p40', 'DistanceToFirstStop_p50', 'DistanceToFirstStop_p60', 'DistanceToFirstStop_p80', 'City']\n",
      "Test columns: ['RowId', 'IntersectionId', 'Latitude', 'Longitude', 'EntryStreetName', 'ExitStreetName', 'EntryHeading', 'ExitHeading', 'Hour', 'Weekend', 'Month', 'Path', 'City']\n"
     ]
    }
   ],
   "source": [
    "train_X = pd.read_csv(os.path.join('..', 'data', 'train.csv'))\n",
    "test_X = pd.read_csv(os.path.join('..', 'data', 'test.csv'))\n",
    "train_cols = list(train_X.columns)\n",
    "test_cols = list(test_X.columns)\n",
    "not_in_train = [x for x in train_cols if not x in test_cols]\n",
    "print(not_in_train)\n",
    "print('Train columns:', train_cols)\n",
    "print('Test columns:', test_cols)\n",
    "# display(train_X.sample(10))"
   ]
  }
 ],
 "metadata": {
  "kernelspec": {
   "display_name": "Python 3",
   "language": "python",
   "name": "python3"
  },
  "language_info": {
   "codemirror_mode": {
    "name": "ipython",
    "version": 3
   },
   "file_extension": ".py",
   "mimetype": "text/x-python",
   "name": "python",
   "nbconvert_exporter": "python",
   "pygments_lexer": "ipython3",
   "version": "3.6.8"
  }
 },
 "nbformat": 4,
 "nbformat_minor": 2
}
